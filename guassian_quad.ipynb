{
  "cells": [
    {
      "cell_type": "raw",
      "metadata": {},
      "source": [
        "---\n",
        "author: Ethan Peters\n",
        "title: Application of Gaussian Quadrature Method to Determine Thermal Conductivity of Aerogel\n",
        "format: html\n",
        "---"
      ],
      "id": "b3093433"
    },
    {
      "cell_type": "markdown",
      "metadata": {},
      "source": [
        "We are interested in numerically evaluating a definite integral on an interval [a,b]. The Newton-Cotes method draws a polymial function that interpolates the function on a set of points. Since it is simple to evaluate the definite integral of a polynomial, this method can be used to approximate the value of the definte integral.\n",
        "\n",
        "We can also approach the problem of evaluating a definite integral by finding a low degree polymial that approximates the function well in the sense of least squares regression and use the integral of this function as the approximation. This method is called the Gaussian quadrature method and will be the focus of the following program. We will compare the accuracy and speed of this method against the Newton-Cotes method,the Simpsons rule and against itself as the number of quadrature points is increased. \n",
        "\n",
        "To begin we will import the required Python libraries. Of specific importance will be the sympy library that provides tools for symbolic compuation, the scipy module which provides the tools required to effectively find the roots of nonlinear equations required to solve the Vandermonde matrix as well as performing least square regression, and the numpy library which includes many useful matrix operations. \n"
      ],
      "id": "516d70ef"
    },
    {
      "cell_type": "code",
      "metadata": {},
      "source": [
        "import math\n",
        "import numpy as np\n",
        "import matplotlib.pyplot as plt\n",
        "from sympy import symbols, integrate, init_printing, pprint, latex, integrate, Poly, cos, lambdify\n",
        "from scipy.linalg import lstsq\n",
        "from scipy.optimize import root\n",
        "from tabulate import tabulate\n",
        "\n",
        "init_printing(use_latex=True)"
      ],
      "id": "af869c85",
      "execution_count": null,
      "outputs": []
    },
    {
      "cell_type": "markdown",
      "metadata": {},
      "source": [
        "Before developing the support of the Guassian Qudrature method let's develop a method for determining the coeffiecient of an interpolating polynomial of degree n for any input set of data on the interval [-1, 1]. The choice of this interval will be of special importance when discussing Legendre polynomials. \n",
        "\n",
        "To motivate this exploration we will find an interpolating polynomial of the function \n",
        "\n",
        "\\[ f(x) = \\cos(x) \\]\n",
        "\n",
        "on the interval [a,b]. With the interpolating polynomial P(x) determined we can utilize the sympy integration method to calculate the value of \n",
        "\n",
        "\\[ \\int_{-1}^1 P(x) dx\\]\n"
      ],
      "id": "023a18ac"
    },
    {
      "cell_type": "code",
      "metadata": {},
      "source": [
        "# Define the interval, number of points to evenly divide the interval by and x as a symbolic variable\n",
        "interval = [-1,1]\n",
        "n = 3\n",
        "quadrature_points = np.linspace(interval[0], interval[1], n)\n",
        "x = symbols('x')\n",
        "\n",
        "# Create the y vector by evaluating points within the interval at the function f(x)\n",
        "f = cos(x)\n",
        "\n",
        "y = lambdify(x, f, 'numpy')\n",
        "\n",
        "# Evaluate the function at the quadrature points\n",
        "result = y(quadrature_points)\n",
        "\n",
        "# Set a custom color palette (1980's brown and orange office vibe)\n",
        "custom_palette =  ['#E07A5F', '#81B29A', '#FEEAC9', '#3D405B', '#F4F1DE', '#2A2B2A', '#D3D3D3']\n",
        "\n",
        "# Plot the function\n",
        "x_values = np.linspace(interval[0], interval[1], 1000)\n",
        "plt.plot(x_values, lambdify(x, f, 'numpy')(x_values), label='cos(x)', color=custom_palette[0])\n",
        "\n",
        "# Plot the evaluated points\n",
        "plt.scatter(quadrature_points, result, label='Quadrature Points',  color=custom_palette[1])\n",
        "\n",
        "# Add labels and legend\\\n",
        "plt.title('Function and Quadrature Points', color=custom_palette[3])\n",
        "plt.xlabel('x', color = custom_palette[3])\n",
        "plt.ylabel('y', color = custom_palette[3])\n",
        "plt.legend()\n",
        "\n",
        "# Set the plot background color\n",
        "plt.gca().set_facecolor(custom_palette[2])\n",
        "plt.gcf().set_facecolor(custom_palette[6])\n",
        "\n",
        "# Set axis color\n",
        "plt.gca().spines['bottom'].set_color(custom_palette[5])\n",
        "plt.gca().spines['top'].set_color(custom_palette[5])\n",
        "plt.gca().spines['right'].set_color(custom_palette[5])\n",
        "plt.gca().spines['left'].set_color(custom_palette[5])\n",
        "\n",
        "# Set tick colors to a darker hue\n",
        "tick_color = '#1F3552'\n",
        "plt.xticks(np.arange(interval[0], interval[1] + 0.1, 0.5))  # Set ticks at every 0.5 interval\n",
        "plt.tick_params(axis='x', colors=tick_color, which='both', size=10, width=2)\n",
        "plt.tick_params(axis='y', colors=tick_color, which='both', size=10, width=2)\n",
        "\n",
        "# Show the plot\n",
        "plt.show()"
      ],
      "id": "5b83b61e",
      "execution_count": null,
      "outputs": []
    },
    {
      "cell_type": "markdown",
      "metadata": {},
      "source": [
        "We can now see the function $f(x) = cos(x)$ and the interpolating points at -1, 0, 1. Now we will find a 3rd degree polynomial that interpolates these three points using a Vandermann matrix. We have created the y vector of points that need to be interpolated, and can now solve the sytstem of equations\n",
        "\n",
        "\\[Vc = y\\]\n",
        "\n",
        "where y is the the values of the interpolation points evaluted at $f(x)$ and V is the Vandermonde matrix. \n"
      ],
      "id": "b564712c"
    },
    {
      "cell_type": "code",
      "metadata": {},
      "source": [
        "V = np.vander(quadrature_points, increasing=False)\n",
        "\n",
        "print(V)\n",
        "\n",
        "# Solve the system of linear equations to find interpolating polynomial\n",
        "c = np.linalg.solve(V, result)\n",
        "\n",
        "def interpolated_function(x):\n",
        "    return np.polyval(coefficients, x)"
      ],
      "id": "859e232c",
      "execution_count": null,
      "outputs": []
    },
    {
      "cell_type": "markdown",
      "metadata": {},
      "source": [
        "Currently this generate all of Legendre Polynomials from 0 to n. For the purposes of the project we will need only a function that takes in a symbolic variable and returns the nth Legendre polynial. \n"
      ],
      "id": "4abf1484"
    },
    {
      "cell_type": "code",
      "metadata": {},
      "source": [
        "# Generate n number of Legendre Polynomials of the first kind\n",
        "\n",
        "# Define the symbolic variable\n",
        "x = symbols('x')\n",
        "\n",
        "# Store n legrende polys\n",
        "Pn = []\n",
        "\n",
        "max_degree = 20\n",
        "\n",
        "for n in range(0,max_degree):\n",
        "    limit = math.floor(n/2)\n",
        "\n",
        "    terms = []\n",
        "    # Calculate Terms of Polynomial\n",
        "    for k in range(0, limit+1):\n",
        "        term = (1/2**n) * (-1) ** k * math.comb(n,k) * math.comb(2*n - 2*k,n) * x ** (n-2*k)\n",
        "        terms.append(term)\n",
        "\n",
        "    # Sum terms to polynomial, pretty print\n",
        "    Pn.append(Add(*terms))\n",
        "\n",
        "'''\n",
        "# Open the file for writing\n",
        "with open(file_name, 'w') as file:\n",
        "    # Write LaTeX preamble and begin document\n",
        "    file.write(\"\\\\documentclass{article}\\n\")\n",
        "    file.write(\"\\\\begin{document}\\n\")\n",
        "\n",
        "    # Write each equation in LaTeX format to the file\n",
        "    for equation in Pn:\n",
        "        file.write(\"\\\\begin{equation}\\n\")\n",
        "        file.write(latex(equation) + \"\\n\")\n",
        "        file.write(\"\\\\end{equation}\\n\")\n",
        "\n",
        "    # End document\n",
        "    file.write(\"\\\\end{document}\\n\")\n",
        "'''"
      ],
      "id": "79c37894",
      "execution_count": null,
      "outputs": []
    },
    {
      "cell_type": "markdown",
      "metadata": {},
      "source": [
        "Now that we can generate P_n(x) for any value n and have confirmed that the output is correct we need to evaluate the integral of each equation over the domain (-1,1) in order to construct the nxn matrix. \n",
        "\n",
        "Update: The issue with this is that Legendre Polynomials are constructed in the manner that both the function itself and the product of two legendre polynomials of different degrees are orthogonal over the range [-1,1]. This means that the value of the integral should be 0 for n>0. \n",
        "\n",
        "Also the legendre(n,x) function from sympy could have been used to generate the legendre polynomials. \n",
        "\n",
        "I do not think the following cell is important for what we are exploring, but calculates the integral over the range [0,1] of the Legendre Polynomials that were generate above.\n"
      ],
      "id": "127ae442"
    },
    {
      "cell_type": "code",
      "metadata": {},
      "source": [
        "# Build b vector\n",
        "degree = 10\n",
        "b = []\n",
        "\n",
        "# limits of integration\n",
        "lower = 0\n",
        "upper = 1\n",
        "\n",
        "for i in range(0, degree):\n",
        "    int_Pn = integrate(Pn[i], (x, lower, upper))\n",
        "    b.append(int_Pn)\n",
        "\n",
        "print(b)"
      ],
      "id": "2f59f6a8",
      "execution_count": null,
      "outputs": []
    },
    {
      "cell_type": "markdown",
      "metadata": {},
      "source": [
        "The following cell contructs the b vector where each cell is the soltion to the integral on the domain [-1,1] of the function x^n for n > 0 where n is an integer. \n"
      ],
      "id": "56b54873"
    },
    {
      "cell_type": "code",
      "metadata": {},
      "source": [
        "def generate_b(n):\n",
        "\n",
        "    lower = -1\n",
        "    upper = 1\n",
        "\n",
        "    x = symbols('x')\n",
        "    b = []\n",
        "\n",
        "    for i in range(0,n):\n",
        "        int_xn = integrate(x ** i, (x, lower, upper))\n",
        "        b.append(int_xn)\n",
        "    \n",
        "    return b"
      ],
      "id": "d44b5d9f",
      "execution_count": null,
      "outputs": []
    },
    {
      "cell_type": "markdown",
      "metadata": {},
      "source": [
        "Then we will find the roots of the corresponding Legendre Polynomial which we know falls in the range [-1,1] based on the properties of Legendre Polynomials (why exactly this works would be an interesting proof to look into. I think it has something to do with the remainder after polynomial division). \n"
      ],
      "id": "2a0564d6"
    },
    {
      "cell_type": "code",
      "metadata": {},
      "source": [
        "def roots_legendre_poly_np(n):\n",
        "    limit = math.floor(n/2)\n",
        "    terms = []\n",
        "    x = symbols('x')\n",
        "\n",
        "    # Calculate Terms of Polynomial\n",
        "    for k in range(0, limit+1):\n",
        "        term = (1/2**n) * (-1) ** k * math.comb(n,k) * math.comb(2*n - 2*k,n) * x ** (n-2*k)\n",
        "        terms.append(term)\n",
        "\n",
        "    # Add these terms together into a single polymial (Probably a faster way to do this)\n",
        "    pn_poly = Poly(sum(terms), x)\n",
        "\n",
        "    #display(pn_poly)\n",
        "\n",
        "    pn_coefficients = pn_poly.all_coeffs()\n",
        "\n",
        "    #print(pn_coefficients)\n",
        "\n",
        "    pn_roots = np.roots(pn_coefficients)\n",
        "\n",
        "    return pn_roots"
      ],
      "id": "78bb57d8",
      "execution_count": null,
      "outputs": []
    },
    {
      "cell_type": "markdown",
      "metadata": {},
      "source": [
        "The above code runs into an issue for n > 40 where it incorrectly calculates the root. Keeping this here for demonstration as it is an example of the necessity for better methods of finding roots. Below we take another approach using the scipy.optimize.root function instead. I believe (but need to do more research about the specifics) that this root finding approach using the Jacobi matrix and the QR algorithm for determining roots of polynomials. \n",
        "\n",
        "The below code uses the scipy.optimize.root function which is a more robust root solver. This fixes the issue with n> 40. \n"
      ],
      "id": "6b61db50"
    },
    {
      "cell_type": "code",
      "metadata": {},
      "source": [
        "def roots_legendre_poly(n):\n",
        "    limit = math.floor(n/2)\n",
        "    terms = []\n",
        "    x = symbols('x')\n",
        "\n",
        "    # Calculate Terms of Polynomial\n",
        "    for k in range(0, limit+1):\n",
        "        term = (1/2**n) * (-1) ** k * math.comb(n,k) * math.comb(2*n - 2*k,n) * x ** (n-2*k)\n",
        "        terms.append(term)\n",
        "\n",
        "    # Add these terms together into a single polynomial\n",
        "    pn_poly = Poly(sum(terms), x)\n",
        "\n",
        "    # Extract coefficients\n",
        "    pn_coefficients = pn_poly.all_coeffs()\n",
        "\n",
        "    # Define the function for root finding\n",
        "    def f(x_val):\n",
        "        return [pn_poly.subs(x, val) for val in x_val]\n",
        "\n",
        "    # Initial guess for the roots\n",
        "    initial_guess = np.linspace(-1, 1, n)\n",
        "\n",
        "    # Find the roots using scipy.optimize.root\n",
        "    result = root(f, initial_guess, method='hybr')\n",
        "\n",
        "    pn_roots = result.x\n",
        "\n",
        "    return pn_roots"
      ],
      "id": "40477681",
      "execution_count": null,
      "outputs": []
    },
    {
      "cell_type": "markdown",
      "metadata": {},
      "source": [
        "Now I need to construct the Vanderman matrix. That is, I need to evaluate each value of the roots (x_1, ..., x_i) for the function x^0, ..., x^n then solve this system of equations for the weights.\n"
      ],
      "id": "9caafe65"
    },
    {
      "cell_type": "code",
      "metadata": {},
      "source": [
        "def create_vandermonde(n):\n",
        "    roots_l = roots_legendre_poly(n)\n",
        "    vander_matrix = np.vander(roots_l, increasing = True).T\n",
        "    return vander_matrix, roots_l"
      ],
      "id": "094517ee",
      "execution_count": null,
      "outputs": []
    },
    {
      "cell_type": "markdown",
      "metadata": {},
      "source": [
        "At this point we have the full vandermonde matrix evaluated at the Legendre Polynomial roots as well as the monomials of increasing power evaluated at increasing powers. The next step is to solve this system of equations. \n"
      ],
      "id": "94983885"
    },
    {
      "cell_type": "code",
      "metadata": {},
      "source": [
        "def calculate_weights(n):  \n",
        "    A, roots = create_vandermonde(n)\n",
        "    b = generate_b(n)\n",
        "\n",
        "    # Assuming generate_b returns a list, convert it to NumPy array\n",
        "    A = np.array(A)\n",
        "    b = np.array(b)\n",
        "\n",
        "    A = A.astype(np.float64)\n",
        "    b = b.astype(np.float64)\n",
        "\n",
        "    #w = np.linalg.solve(A,b.T)\n",
        "    weights, _, _, _ = lstsq(A, b.T)\n",
        "\n",
        "    #return roots, w\n",
        "    return {'n': n, 'weights': weights, 'roots': roots}"
      ],
      "id": "05e59b2c",
      "execution_count": null,
      "outputs": []
    },
    {
      "cell_type": "markdown",
      "metadata": {},
      "source": [
        "Check solution by looping from 1 to 10 and printing weights and corresponing roots\n"
      ],
      "id": "04a55a8a"
    },
    {
      "cell_type": "code",
      "metadata": {},
      "source": [
        "max_n = 6\n",
        "\n",
        "for i in range(2, max_n + 1):\n",
        "    result = calculate_weights(i)\n",
        "\n",
        "    print(f\"Table for n = {result['n']}\")\n",
        "    table = {'Weights': result['weights'], 'Roots': result['roots']}\n",
        "    print(tabulate(table, headers='keys', tablefmt='fancy_grid'))\n",
        "    print(\"\\n\")"
      ],
      "id": "25a731af",
      "execution_count": null,
      "outputs": []
    },
    {
      "cell_type": "markdown",
      "metadata": {},
      "source": [
        "Create a Latex Document of the Tables\n"
      ],
      "id": "3152d9c2"
    },
    {
      "cell_type": "code",
      "metadata": {},
      "source": [
        "max_n = 8\n",
        "results = []\n",
        "\n",
        "for i in range(2, max_n + 1):\n",
        "    result = calculate_weights(i)\n",
        "    results.append(result)\n",
        "\n",
        "# Create LaTeX tables\n",
        "latex_tables = []\n",
        "for result in results:\n",
        "    table = {'n': result['n'], 'weights': result['weights'], 'roots': result['roots']}\n",
        "    latex_tables.append(table)\n",
        "\n",
        "# Write LaTeX document\n",
        "latex_document = \"\\\\documentclass{article}\\n\\\\usepackage{amsmath}\\n\\\\begin{document}\\n\"\n",
        "\n",
        "for table in latex_tables:\n",
        "    latex_document += f\"\\\\section*{{Table for n={table['n']}}}\\n\"\n",
        "    \n",
        "    # Create a list of lists (rows) for tabulate\n",
        "    table_data = [['i', 'Weights', 'Roots']] + list(zip(range(1, len(table['weights']) + 1), table['weights'], table['roots']))\n",
        "    \n",
        "    latex_document += tabulate(table_data, headers='firstrow', tablefmt='latex_raw') + \"\\n\\n\"\n",
        "\n",
        "latex_document += \"\\\\end{document}\"\n",
        "\n",
        "# Save LaTeX document to a file\n",
        "with open('output.tex', 'w') as file:\n",
        "    file.write(latex_document)"
      ],
      "id": "17df103e",
      "execution_count": null,
      "outputs": []
    },
    {
      "cell_type": "markdown",
      "metadata": {},
      "source": [
        "https://engcourses-uofa.ca/books/numericalanalysis/numerical-integration/gauss-quadrature/#introduction2\n"
      ],
      "id": "180f9809"
    },
    {
      "cell_type": "code",
      "metadata": {},
      "source": [
        "|import sympy as sp\n",
        "\n",
        "sp.init_printing(use_latex=True)\n",
        "\n",
        "x, x1, x2 = sp.symbols('x x1 x2')\n",
        "a0, a1, a2, a3 = sp.symbols('a0 a1 a2 a3')\n",
        "w1, w2 = sp.symbols('w1 w2')\n",
        "\n",
        "f = a0 + a1*x + a2*x**2 + a3*x**3\n",
        "\n",
        "I1 = sp.integrate(f, (x, -1, 1))\n",
        "I2 = w1*(f.subs(x, x1)) + w2*(f.subs(x, x2))\n",
        "\n",
        "display(\"I1: \",I1)\n",
        "display(\"I2: \",I2)\n",
        "\n",
        "Eq1 = sp.expand(I1 - I2).coeff(a0)\n",
        "Eq2 = sp.expand(I1 - I2).coeff(a1)\n",
        "Eq3 = sp.expand(I1 - I2).coeff(a2)\n",
        "Eq4 = sp.expand(I1 - I2).coeff(a3)\n",
        "\n",
        "display(\"Eq1: \",Eq1)\n",
        "display(\"Eq2: \",Eq2)\n",
        "display(\"Eq3: \",Eq3)\n",
        "display(\"Eq4: \",Eq4)\n",
        "\n",
        "sol = list(sp.nonlinsolve([Eq1, Eq2, Eq3, Eq4], [x1, x2, w1, w2]))\n",
        "display(sol)"
      ],
      "id": "4b875b86",
      "execution_count": null,
      "outputs": []
    }
  ],
  "metadata": {
    "kernelspec": {
      "name": "new_env",
      "language": "python",
      "display_name": "New Environment"
    }
  },
  "nbformat": 4,
  "nbformat_minor": 5
}