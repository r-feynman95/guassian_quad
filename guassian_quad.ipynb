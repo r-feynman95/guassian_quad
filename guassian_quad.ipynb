{
  "cells": [
    {
      "cell_type": "markdown",
      "id": "e0e13d4e",
      "metadata": {},
      "source": [
        "Using the fourth representation of Legendre's Polynomial found on this wiki, we can generate the P_n(x) for any value of n. We will then evaluate these polyomials on the domains (-1, 1) to determine vector b and the solve the Vaderman Matrix to determine the weights of the Gaussian Quadrature. \n"
      ]
    },
    {
      "cell_type": "code",
      "execution_count": null,
      "id": "dd175c96",
      "metadata": {},
      "outputs": [],
      "source": [
        "import math\n",
        "import numpy as np\n",
        "from scipy.optimize import root\n",
        "from sympy import symbols, integrate, init_printing, Add, pprint, latex, integrate, Poly\n",
        "\n",
        "from scipy.linalg import lstsq\n",
        "from tabulate import tabulate\n",
        "\n",
        "\n",
        "init_printing(use_latex=True)"
      ]
    },
    {
      "cell_type": "markdown",
      "id": "af98c6aa",
      "metadata": {},
      "source": [
        "Currently this generate all of Legendre Polynomials from 0 to n. For the purposes of the project we will need only a function that takes in a symbolic variable and returns the nth Legendre polynial. \n"
      ]
    },
    {
      "cell_type": "code",
      "execution_count": null,
      "id": "66086430",
      "metadata": {},
      "outputs": [],
      "source": [
        "# Generate n number of Legendre Polynomials of the first kind\n",
        "\n",
        "# Define the symbolic variable\n",
        "x = symbols('x')\n",
        "\n",
        "# Store n legrende polys\n",
        "Pn = []\n",
        "\n",
        "max_degree = 20\n",
        "\n",
        "for n in range(0,max_degree):\n",
        "    limit = math.floor(n/2)\n",
        "\n",
        "    terms = []\n",
        "    # Calculate Terms of Polynomial\n",
        "    for k in range(0, limit+1):\n",
        "        term = (1/2**n) * (-1) ** k * math.comb(n,k) * math.comb(2*n - 2*k,n) * x ** (n-2*k)\n",
        "        terms.append(term)\n",
        "\n",
        "    # Sum terms to polynomial, pretty print\n",
        "    Pn.append(Add(*terms))\n",
        "\n",
        "'''\n",
        "# Open the file for writing\n",
        "with open(file_name, 'w') as file:\n",
        "    # Write LaTeX preamble and begin document\n",
        "    file.write(\"\\\\documentclass{article}\\n\")\n",
        "    file.write(\"\\\\begin{document}\\n\")\n",
        "\n",
        "    # Write each equation in LaTeX format to the file\n",
        "    for equation in Pn:\n",
        "        file.write(\"\\\\begin{equation}\\n\")\n",
        "        file.write(latex(equation) + \"\\n\")\n",
        "        file.write(\"\\\\end{equation}\\n\")\n",
        "\n",
        "    # End document\n",
        "    file.write(\"\\\\end{document}\\n\")\n",
        "'''"
      ]
    },
    {
      "cell_type": "markdown",
      "id": "3e23910c",
      "metadata": {},
      "source": [
        "Now that we can generate P_n(x) for any value n and have confirmed that the output is correct we need to evaluate the integral of each equation over the domain (-1,1) in order to construct the nxn matrix. \n",
        "\n",
        "Update: The issue with this is that Legendre Polynomials are constructed in the manner that both the function itself and the product of two legendre polynomials of different degrees are orthogonal over the range [-1,1]. This means that the value of the integral should be 0 for n>0. \n",
        "\n",
        "Also the legendre(n,x) function from sympy could have been used to generate the legendre polynomials. \n",
        "\n",
        "I do not think the following cell is important for what we are exploring, but calculates the integral over the range [0,1] of the Legendre Polynomials that were generate above.\n"
      ]
    },
    {
      "cell_type": "code",
      "execution_count": null,
      "id": "832386b1",
      "metadata": {},
      "outputs": [],
      "source": [
        "# Build b vector\n",
        "degree = 10\n",
        "b = []\n",
        "\n",
        "# limits of integration\n",
        "lower = 0\n",
        "upper = 1\n",
        "\n",
        "for i in range(0, degree):\n",
        "    int_Pn = integrate(Pn[i], (x, lower, upper))\n",
        "    b.append(int_Pn)\n",
        "\n",
        "print(b)"
      ]
    },
    {
      "cell_type": "markdown",
      "id": "a9564a14",
      "metadata": {},
      "source": [
        "The following cell contructs the b vector where each cell is the soltion to the integral on the domain [-1,1] of the function x^n for n > 0 where n is an integer. \n"
      ]
    },
    {
      "cell_type": "code",
      "execution_count": null,
      "id": "c4cbb485",
      "metadata": {},
      "outputs": [],
      "source": [
        "def generate_b(n):\n",
        "\n",
        "    lower = -1\n",
        "    upper = 1\n",
        "\n",
        "    x = symbols('x')\n",
        "    b = []\n",
        "\n",
        "    for i in range(0,n):\n",
        "        int_xn = integrate(x ** i, (x, lower, upper))\n",
        "        b.append(int_xn)\n",
        "    \n",
        "    return b"
      ]
    },
    {
      "cell_type": "markdown",
      "id": "26ec984f",
      "metadata": {},
      "source": [
        "Then we will find the roots of the corresponding Legendre Polynomial which we know falls in the range [-1,1] based on the properties of Legendre Polynomials (why exactly this works would be an interesting proof to look into. I think it has something to do with the remainder after polynomial division). \n"
      ]
    },
    {
      "cell_type": "code",
      "execution_count": null,
      "id": "d32a3ebb",
      "metadata": {},
      "outputs": [],
      "source": [
        "def roots_legendre_poly_np(n):\n",
        "    limit = math.floor(n/2)\n",
        "    terms = []\n",
        "    x = symbols('x')\n",
        "\n",
        "    # Calculate Terms of Polynomial\n",
        "    for k in range(0, limit+1):\n",
        "        term = (1/2**n) * (-1) ** k * math.comb(n,k) * math.comb(2*n - 2*k,n) * x ** (n-2*k)\n",
        "        terms.append(term)\n",
        "\n",
        "    # Add these terms together into a single polymial (Probably a faster way to do this)\n",
        "    pn_poly = Poly(sum(terms), x)\n",
        "\n",
        "    #display(pn_poly)\n",
        "\n",
        "    pn_coefficients = pn_poly.all_coeffs()\n",
        "\n",
        "    #print(pn_coefficients)\n",
        "\n",
        "    pn_roots = np.roots(pn_coefficients)\n",
        "\n",
        "    return pn_roots"
      ]
    },
    {
      "cell_type": "markdown",
      "id": "f7cd7313",
      "metadata": {},
      "source": [
        "The above code runs into an issue for n > 40 where it incorrectly calculates the root. Keeping this here for demonstration as it is an example of the necessity for better methods of finding roots. Below we take another approach using the scipy.optimize.root function instead. I believe (but need to do more research about the specifics) that this root finding approach using the Jacobi matrix and the QR algorithm for determining roots of polynomials. \n",
        "\n",
        "The below code uses the scipy.optimize.root function which is a more robust root solver. This fixes the issue with n> 40. \n"
      ]
    },
    {
      "cell_type": "code",
      "execution_count": null,
      "id": "0381ed1c",
      "metadata": {},
      "outputs": [],
      "source": [
        "def roots_legendre_poly(n):\n",
        "    limit = math.floor(n/2)\n",
        "    terms = []\n",
        "    x = symbols('x')\n",
        "\n",
        "    # Calculate Terms of Polynomial\n",
        "    for k in range(0, limit+1):\n",
        "        term = (1/2**n) * (-1) ** k * math.comb(n,k) * math.comb(2*n - 2*k,n) * x ** (n-2*k)\n",
        "        terms.append(term)\n",
        "\n",
        "    # Add these terms together into a single polynomial\n",
        "    pn_poly = Poly(sum(terms), x)\n",
        "\n",
        "    # Extract coefficients\n",
        "    pn_coefficients = pn_poly.all_coeffs()\n",
        "\n",
        "    # Define the function for root finding\n",
        "    def f(x_val):\n",
        "        return [pn_poly.subs(x, val) for val in x_val]\n",
        "\n",
        "    # Initial guess for the roots\n",
        "    initial_guess = np.linspace(-1, 1, n)\n",
        "\n",
        "    # Find the roots using scipy.optimize.root\n",
        "    result = root(f, initial_guess, method='hybr')\n",
        "\n",
        "    pn_roots = result.x\n",
        "\n",
        "    return pn_roots"
      ]
    },
    {
      "cell_type": "markdown",
      "id": "2130d16c",
      "metadata": {},
      "source": [
        "Now I need to construct the Vanderman matrix. That is, I need to evaluate each value of the roots (x_1, ..., x_i) for the function x^0, ..., x^n then solve this system of equations for the weights.\n"
      ]
    },
    {
      "cell_type": "code",
      "execution_count": null,
      "id": "435d72de",
      "metadata": {},
      "outputs": [],
      "source": [
        "def create_vandermonde(n):\n",
        "    roots_l = roots_legendre_poly(n)\n",
        "    vander_matrix = np.vander(roots_l, increasing = True).T\n",
        "    return vander_matrix, roots_l"
      ]
    },
    {
      "cell_type": "markdown",
      "id": "9609924d",
      "metadata": {},
      "source": [
        "At this point we have the full vandermonde matrix evaluated at the Legendre Polynomial roots as well as the monomials of increasing power evaluated at increasing powers. The next step is to solve this system of equations. \n"
      ]
    },
    {
      "cell_type": "code",
      "execution_count": null,
      "id": "ed43ce90",
      "metadata": {},
      "outputs": [],
      "source": [
        "def calculate_weights(n):  \n",
        "    A, roots = create_vandermonde(n)\n",
        "    b = generate_b(n)\n",
        "\n",
        "    # Assuming generate_b returns a list, convert it to NumPy array\n",
        "    A = np.array(A)\n",
        "    b = np.array(b)\n",
        "\n",
        "    A = A.astype(np.float64)\n",
        "    b = b.astype(np.float64)\n",
        "\n",
        "    #w = np.linalg.solve(A,b.T)\n",
        "    weights, _, _, _ = lstsq(A, b.T)\n",
        "\n",
        "    #return roots, w\n",
        "    return {'n': n, 'weights': weights, 'roots': roots}"
      ]
    },
    {
      "cell_type": "markdown",
      "id": "0a10f996",
      "metadata": {},
      "source": [
        "Check solution by looping from 1 to 10 and printing weights and corresponing roots\n"
      ]
    },
    {
      "cell_type": "code",
      "execution_count": null,
      "id": "8c14a5d0",
      "metadata": {},
      "outputs": [],
      "source": [
        "max_n = 6\n",
        "\n",
        "for i in range(2, max_n + 1):\n",
        "    result = calculate_weights(i)\n",
        "\n",
        "    print(f\"Table for n = {result['n']}\")\n",
        "    table = {'Weights': result['weights'], 'Roots': result['roots']}\n",
        "    print(tabulate(table, headers='keys', tablefmt='fancy_grid'))\n",
        "    print(\"\\n\")"
      ]
    },
    {
      "cell_type": "markdown",
      "id": "40071f7f",
      "metadata": {},
      "source": [
        "Create a Latex Document of the Tables\n"
      ]
    },
    {
      "cell_type": "code",
      "execution_count": null,
      "id": "2e747770",
      "metadata": {},
      "outputs": [],
      "source": [
        "max_n = 6\n",
        "results = []\n",
        "\n",
        "for i in range(2, max_n + 1):\n",
        "    result = calculate_weights(i)\n",
        "    results.append(result)\n",
        "\n",
        "# Create LaTeX tables\n",
        "latex_tables = []\n",
        "for result in results:\n",
        "    table = {'n': result['n'], 'weights': result['weights'], 'roots': result['roots']}\n",
        "    latex_tables.append(table)\n",
        "\n",
        "# Write LaTeX document\n",
        "latex_document = \"\\\\documentclass{article}\\n\\\\usepackage{amsmath}\\n\\\\begin{document}\\n\"\n",
        "\n",
        "for table in latex_tables:\n",
        "    latex_document += f\"\\\\section*{{Table for n={table['n']}}}\\n\"\n",
        "    \n",
        "    # Create a list of lists (rows) for tabulate\n",
        "    table_data = [['i', 'Weights', 'Roots']] + list(zip(range(1, len(table['weights']) + 1), table['weights'], table['roots']))\n",
        "    \n",
        "    latex_document += tabulate(table_data, headers='firstrow', tablefmt='latex_raw') + \"\\n\\n\"\n",
        "\n",
        "latex_document += \"\\\\end{document}\"\n",
        "\n",
        "# Save LaTeX document to a file\n",
        "with open('output.tex', 'w') as file:\n",
        "    file.write(latex_document)"
      ]
    },
    {
      "cell_type": "markdown",
      "id": "30fed1ff",
      "metadata": {},
      "source": [
        "https://engcourses-uofa.ca/books/numericalanalysis/numerical-integration/gauss-quadrature/#introduction2\n"
      ]
    },
    {
      "cell_type": "code",
      "execution_count": null,
      "id": "f7344907",
      "metadata": {},
      "outputs": [],
      "source": [
        "|import sympy as sp\n",
        "\n",
        "sp.init_printing(use_latex=True)\n",
        "\n",
        "x, x1, x2 = sp.symbols('x x1 x2')\n",
        "a0, a1, a2, a3 = sp.symbols('a0 a1 a2 a3')\n",
        "w1, w2 = sp.symbols('w1 w2')\n",
        "\n",
        "f = a0 + a1*x + a2*x**2 + a3*x**3\n",
        "\n",
        "I1 = sp.integrate(f, (x, -1, 1))\n",
        "I2 = w1*(f.subs(x, x1)) + w2*(f.subs(x, x2))\n",
        "\n",
        "display(\"I1: \",I1)\n",
        "display(\"I2: \",I2)\n",
        "\n",
        "Eq1 = sp.expand(I1 - I2).coeff(a0)\n",
        "Eq2 = sp.expand(I1 - I2).coeff(a1)\n",
        "Eq3 = sp.expand(I1 - I2).coeff(a2)\n",
        "Eq4 = sp.expand(I1 - I2).coeff(a3)\n",
        "\n",
        "display(\"Eq1: \",Eq1)\n",
        "display(\"Eq2: \",Eq2)\n",
        "display(\"Eq3: \",Eq3)\n",
        "display(\"Eq4: \",Eq4)\n",
        "\n",
        "sol = list(sp.nonlinsolve([Eq1, Eq2, Eq3, Eq4], [x1, x2, w1, w2]))\n",
        "display(sol)"
      ]
    }
  ],
  "metadata": {
    "kernelspec": {
      "display_name": "Python 3",
      "language": "python",
      "name": "python3"
    }
  },
  "nbformat": 4,
  "nbformat_minor": 5
}
